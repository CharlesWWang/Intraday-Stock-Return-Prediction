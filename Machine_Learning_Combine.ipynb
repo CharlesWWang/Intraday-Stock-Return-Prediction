{
 "cells": [
  {
   "cell_type": "code",
   "execution_count": 1,
   "metadata": {},
   "outputs": [
    {
     "name": "stdout",
     "output_type": "stream",
     "text": [
      "215\n",
      "183\n",
      "216\n",
      "614\n"
     ]
    }
   ],
   "source": [
    "import numpy as np\n",
    "import pandas as pd\n",
    "from sklearn.utils import shuffle\n",
    "\n",
    "df1 = pd.read_csv('tesla_train.csv', dtype={'end':str})\n",
    "df2 = pd.read_csv('starbucks_train.csv', dtype={'end':str})\n",
    "df3 = pd.read_csv('verizon_train.csv', dtype={'end':str})\n",
    "df = pd.concat([df1, df2, df3])\n",
    "print len(df1)\n",
    "print len(df2)\n",
    "print len(df3)\n",
    "print len(df)"
   ]
  },
  {
   "cell_type": "code",
   "execution_count": null,
   "metadata": {
    "collapsed": true,
    "scrolled": true
   },
   "outputs": [],
   "source": [
    "df['y'] = df['y'] / 100\n",
    "df['delta'] = df['delta'] / 100\n",
    "df['delta_window'] = df['delta_window'] / 100\n",
    "tmp = ['c_max_fa','c_max_re','c_max_fo','c_min_fa','c_min_re','c_min_fo','fa_avg','re_avg','fo_avg','c_big_fa','c_big_re','c_big_fo','c_small_fa','c_small_re','c_small_fo','c_max_fa_window','c_max_re_window','c_max_fo_window','c_min_fa_window','c_min_re_window','c_min_fo_window','fa_avg_window','re_avg_window','fo_avg_window','c_big_fa_window','c_big_re_window','c_big_fo_window','c_small_fa_window','c_small_re_window','c_small_fo_window']\n",
    "for t in tmp:\n",
    "    df[tmp] = np.log10(df[tmp] + 1)\n",
    "df = shuffle(df).reset_index(drop=True)\n",
    "df"
   ]
  },
  {
   "cell_type": "code",
   "execution_count": null,
   "metadata": {
    "collapsed": true
   },
   "outputs": [],
   "source": [
    "# from sklearn.preprocessing import MinMaxScaler\n",
    "\n",
    "# X = df[['delta','delta_window']].values\n",
    "# scaler = MinMaxScaler(feature_range=(0, 10))\n",
    "# X = np.concatenate((X, scaler.fit_transform(df[['c_max_fa','c_max_re','c_max_fo','c_min_fa','c_min_re','c_min_fo','fa_avg','re_avg','fo_avg','c_big_fa','c_big_re','c_big_fo','c_small_fa','c_small_re','c_small_fo','c_max_fa_window','c_max_re_window','c_max_fo_window','c_min_fa_window','c_min_re_window','c_min_fo_window','fa_avg_window','re_avg_window','fo_avg_window','c_big_fa_window','c_big_re_window','c_big_fo_window','c_small_fa_window','c_small_re_window','c_small_fo_window']].values)), axis=1)\n",
    "# scaler = MinMaxScaler(feature_range=(-10,10))\n",
    "# X = np.concatenate((X, scaler.fit_transform(df[['c_max', 'c_w_max','c_min', 'c_w_min','c_avg', 'c_w_avg','c_med','c_big_c','c_small_c','fa_big_c','re_big_c','fo_big_c','c_max_window', 'c_w_max_window','c_min_window', 'c_w_min_window','c_avg_window', 'c_w_avg_window','c_med_window','c_big_c_window','c_small_c_window','fa_big_c_window','re_big_c_window','fo_big_c_window']].values)), axis=1)"
   ]
  },
  {
   "cell_type": "code",
   "execution_count": null,
   "metadata": {
    "collapsed": true
   },
   "outputs": [],
   "source": [
    "# from sklearn.preprocessing import StandardScaler\n",
    "# scaler = StandardScaler()\n",
    "# df = df.drop(['end'], axis=1).values\n",
    "# df = scaler.fit_transform(df)\n",
    "\n",
    "# X = df[:, 1:]\n",
    "# y = df[:, 0]"
   ]
  },
  {
   "cell_type": "code",
   "execution_count": null,
   "metadata": {
    "collapsed": true
   },
   "outputs": [],
   "source": [
    "df.keys()"
   ]
  },
  {
   "cell_type": "code",
   "execution_count": null,
   "metadata": {
    "collapsed": true
   },
   "outputs": [],
   "source": [
    "# X = df.drop(['end', 'y'], axis=1).values\n",
    "X = df[['delta','delta_window']].values\n",
    "# X = df[['delta','delta_window','c_max','c_min','c_avg','c_med','c_max_window','c_min_window','c_avg_window','c_med_window']].values\n",
    "y = df['y'].values"
   ]
  },
  {
   "cell_type": "code",
   "execution_count": null,
   "metadata": {
    "collapsed": true,
    "scrolled": true
   },
   "outputs": [],
   "source": [
    "from sklearn.preprocessing import StandardScaler\n",
    "scaler = StandardScaler()\n",
    "X = scaler.fit_transform(X)\n",
    "# pd.DataFrame(X)"
   ]
  },
  {
   "cell_type": "code",
   "execution_count": null,
   "metadata": {
    "collapsed": true
   },
   "outputs": [],
   "source": [
    "tmp = X.shape[0] / 6\n",
    "X_test, y_test = X[-tmp:, :], y[-tmp:]\n",
    "X, y = X[:-tmp, :], y[:-tmp]"
   ]
  },
  {
   "cell_type": "code",
   "execution_count": null,
   "metadata": {
    "collapsed": true
   },
   "outputs": [],
   "source": [
    "%matplotlib inline  \n",
    "import matplotlib.pyplot as plt\n",
    "plt.hist(y, bins='auto')\n",
    "plt.show()"
   ]
  },
  {
   "cell_type": "code",
   "execution_count": null,
   "metadata": {
    "collapsed": true
   },
   "outputs": [],
   "source": [
    "from sklearn import linear_model\n",
    "from sklearn.model_selection import KFold\n",
    "from sklearn.metrics import mean_squared_error, r2_score\n",
    "\n",
    "regr = linear_model.LinearRegression(fit_intercept=False)\n",
    "k_fold = KFold(n_splits=5)\n",
    "mses = []\n",
    "accuracies = []\n",
    "for k, (train, test) in enumerate(k_fold.split(X, y)):\n",
    "    regr.fit((X[train]), y[train])\n",
    "    coef = regr.coef_\n",
    "    y_pred = regr.predict((X[test]))\n",
    "    mse = mean_squared_error(y[test], y_pred)\n",
    "    mses.append(mse)\n",
    "    accuracy, count = 0, 0\n",
    "    for i, (a, b) in enumerate(zip(y[test], y_pred)):\n",
    "        if a > 0.1 and b > 0.1: accuracy += 1\n",
    "        if a < -0.1 and b < -0.1: accuracy += 1\n",
    "        if b > 0.1 or b < -0.1: count += 1\n",
    "    accuracy = accuracy * 1.0 / count\n",
    "    accuracies.append(accuracy)\n",
    "    r2 = r2_score(y[test], y_pred)\n",
    "    \n",
    "print('\\n5-CV MSE = {0:.4f} Accuracy = {1:.4f}\\n'.format(np.mean(mses), np.mean(accuracies)))"
   ]
  },
  {
   "cell_type": "code",
   "execution_count": null,
   "metadata": {
    "collapsed": true
   },
   "outputs": [],
   "source": [
    "from sklearn.svm import SVR\n",
    "\n",
    "svr = SVR(kernel='linear', C=10.0)\n",
    "k_fold = KFold(n_splits=5)\n",
    "mses = []\n",
    "accuracies = []\n",
    "for k, (train, test) in enumerate(k_fold.split(X, y)):\n",
    "    svr.fit((X[train]), y[train])\n",
    "    y_pred = svr.predict((X[test]))\n",
    "    mse = mean_squared_error(y[test], y_pred)\n",
    "    mses.append(mse)\n",
    "    accuracy, count = 0, 0\n",
    "    for i, (a, b) in enumerate(zip(y[test], y_pred)):\n",
    "        if a > 0.1 and b > 0.1: accuracy += 1\n",
    "        if a < -0.1 and b < -0.1: accuracy += 1\n",
    "        if b > 0.1 or b < -0.1: count += 1\n",
    "    accuracy = accuracy * 1.0 / count\n",
    "    accuracies.append(accuracy)\n",
    "    r2 = r2_score(y[test], y_pred)\n",
    "    \n",
    "print('\\n5-CV MSE = {0:.4f} Accuracy = {1:.4f}\\n'.format(np.mean(mses), np.mean(accuracies)))"
   ]
  },
  {
   "cell_type": "code",
   "execution_count": null,
   "metadata": {
    "collapsed": true,
    "scrolled": true
   },
   "outputs": [],
   "source": [
    "from sklearn.neural_network import MLPRegressor\n",
    "mlp = MLPRegressor(hidden_layer_sizes=(20,20),max_iter=500, learning_rate='adaptive', learning_rate_init=0.001, alpha=0.0001, solver='adam') # 20 20 0.3486\n",
    "k_fold = KFold(n_splits=5)\n",
    "mses = []\n",
    "accuracies = []\n",
    "for k, (train, test) in enumerate(k_fold.split(X, y)):\n",
    "    mlp.fit(X[train], y[train])\n",
    "    y_pred = mlp.predict(X[test])\n",
    "    mse = mean_squared_error(y[test], y_pred)\n",
    "    mses.append(mse)\n",
    "    accuracy, count = 0, 0\n",
    "    for i, (a, b) in enumerate(zip(y[test], y_pred)):\n",
    "        if a > 0.1 and b > 0.1: accuracy += 1\n",
    "        if a < -0.1 and b < -0.1: accuracy += 1\n",
    "        if b > 0.1 or b < -0.1: count += 1\n",
    "    accuracy = accuracy * 1.0 / count\n",
    "    accuracies.append(accuracy)\n",
    "    r2 = r2_score(y[test], y_pred)\n",
    "    \n",
    "print('\\n5-CV MSE = {0:.4f} Accuracy = {1:.4f}\\n'.format(np.mean(mses), np.mean(accuracies)))"
   ]
  },
  {
   "cell_type": "code",
   "execution_count": null,
   "metadata": {
    "collapsed": true
   },
   "outputs": [],
   "source": [
    "import xgboost as xgb\n",
    "\n",
    "def evalerror(preds, dtrain):\n",
    "    labels = dtrain.get_label()\n",
    "    accuracy, count = 0, 0\n",
    "    for i, (a, b) in enumerate(zip(labels, preds)):\n",
    "        if a > 0.1 and b > 0.1: accuracy += 1\n",
    "        if a < -0.1 and b < -0.1: accuracy += 1\n",
    "        if b > 0.1 or b < -0.1: count += 1\n",
    "    accuracy = accuracy * 1.0 / count\n",
    "    return 'my-error', 1 - accuracy\n",
    "\n",
    "param = {}\n",
    "param['objective'] = 'reg:linear'\n",
    "param['verbosity'] = 0\n",
    "param['eta'] = 0.01\n",
    "param['max_depth'] = 2\n",
    "param['min_child_weight'] = 4\n",
    "param['subsample'] = 0.6\n",
    "param['colsample_bytree'] = 0.6\n",
    "\n",
    "k_fold = KFold(n_splits=5)\n",
    "mses = []\n",
    "accuracies = []\n",
    "for k, (train, test) in enumerate(k_fold.split(X, y)):\n",
    "    train_X = X[train]\n",
    "    train_Y = y[train]\n",
    "    test_X = X[test]\n",
    "    test_Y = y[test]\n",
    "    xg_train = xgb.DMatrix(train_X, label=train_Y)\n",
    "    xg_test = xgb.DMatrix(test_X, label=test_Y)\n",
    "    watchlist = [(xg_train, 'train'), (xg_test, 'test')]\n",
    "    num_round = 50\n",
    "    bst = xgb.train(param, xg_train, num_round, watchlist, feval=evalerror)\n",
    "    y_pred = bst.predict(xg_test)\n",
    "    mse = mean_squared_error(y[test], y_pred)\n",
    "    mses.append(mse)\n",
    "    accuracy, count = 0, 0\n",
    "    for i, (a, b) in enumerate(zip(y[test], y_pred)):\n",
    "        if a > 0.1 and b > 0.1: accuracy += 1\n",
    "        if a < -0.1 and b < -0.1: accuracy += 1\n",
    "        if b > 0.1 or b < -0.1: count += 1\n",
    "    accuracy = accuracy * 1.0 / count\n",
    "    accuracies.append(accuracy)\n",
    "    r2 = r2_score(y[test], y_pred)\n",
    "    \n",
    "print('\\n5-CV MSE = {0:.4f} Accuracy = {1:.4f}\\n'.format(np.mean(mses), np.mean(accuracies)))"
   ]
  },
  {
   "cell_type": "code",
   "execution_count": null,
   "metadata": {
    "collapsed": true
   },
   "outputs": [],
   "source": [
    "# XGB Grid Search\n",
    "\n",
    "from sklearn.model_selection import GridSearchCV\n",
    "from sklearn.metrics.scorer import make_scorer\n",
    "from xgboost import XGBRegressor\n",
    "import pickle\n",
    "\n",
    "def my_accuracy_func(y_true, y_pred):\n",
    "    accuracy, count = 0, 0\n",
    "    for i, (a, b) in enumerate(zip(y_true, y_pred)):\n",
    "        if a > 0.1 and b > 0.1: accuracy += 1\n",
    "        if a < -0.1 and b < -0.1: accuracy += 1\n",
    "        if b > 0.1 or b < -0.1: count += 1\n",
    "    accuracy = accuracy * 1.0 / count\n",
    "    return accuracy\n",
    "\n",
    "my_scorer = make_scorer(my_accuracy_func, greater_is_better=True)\n",
    "\n",
    "params = {'learning_rate':[x * 0.01 for x in range(1,5)], 'min_child_weight':[4], 'gamma':[i/10 for i in range(5,40)],  'subsample':[0.6],\n",
    "'colsample_bytree':[0.6], 'max_depth': [2,3,4]}\n",
    "\n",
    "xgb = XGBRegressor(nthread=-1) \n",
    "\n",
    "grid = GridSearchCV(xgb, params, cv=5, scoring=my_scorer)\n",
    "grid.fit(X, y)"
   ]
  },
  {
   "cell_type": "code",
   "execution_count": null,
   "metadata": {
    "collapsed": true,
    "scrolled": true
   },
   "outputs": [],
   "source": [
    "print grid.best_score_\n",
    "print grid.best_params_\n",
    "pd.DataFrame(grid.cv_results_)"
   ]
  },
  {
   "cell_type": "code",
   "execution_count": null,
   "metadata": {
    "collapsed": true
   },
   "outputs": [],
   "source": [
    "from sklearn.metrics import mean_squared_error, r2_score\n",
    "import xgboost as xgb\n",
    "\n",
    "def evalerror(preds, dtrain):\n",
    "    labels = dtrain.get_label()\n",
    "    accuracy, count = 0, 0\n",
    "    for i, (a, b) in enumerate(zip(labels, preds)):\n",
    "        if a > 0.1 and b > 0.1: accuracy += 1\n",
    "        if a < -0.1 and b < -0.1: accuracy += 1\n",
    "        if b > 0.1 or b < -0.1: count += 1\n",
    "    accuracy = accuracy * 1.0 / count\n",
    "    return 'my-error', 1 - accuracy\n",
    "\n",
    "param = {}\n",
    "param['objective'] = 'reg:linear'\n",
    "param['verbosity'] = 0\n",
    "param['eta'] = 0.01\n",
    "param['max_depth'] = 2\n",
    "param['min_child_weight'] = 4\n",
    "param['subsample'] = 0.6\n",
    "param['colsample_bytree'] = 0.6\n",
    "\n",
    "xg_train = xgb.DMatrix(X, label=y)\n",
    "xg_test = xgb.DMatrix(X_test, label=y_test)\n",
    "watchlist = [(xg_train, 'train'), (xg_test, 'test')]\n",
    "num_round = 50\n",
    "bst = xgb.train(param, xg_train, num_round, watchlist, feval=evalerror)\n",
    "y_pred = bst.predict(xg_test)\n",
    "mse = mean_squared_error(y_test, y_pred)\n",
    "accuracy, count = 0, 0\n",
    "for i, (a, b) in enumerate(zip(y_test, y_pred)):\n",
    "    if a > 0.1 and b > 0.1: accuracy += 1\n",
    "    if a < -0.1 and b < -0.1: accuracy += 1\n",
    "    if b > 0.1 or b < -0.1: count += 1\n",
    "accuracy = accuracy * 1.0 / count\n",
    "    \n",
    "print('\\n5-CV MSE = {0:.4f} Accuracy = {1:.4f}\\n'.format(mse, accuracy))"
   ]
  }
 ],
 "metadata": {
  "kernelspec": {
   "display_name": "Python 2",
   "language": "python",
   "name": "python2"
  },
  "language_info": {
   "codemirror_mode": {
    "name": "ipython",
    "version": 2
   },
   "file_extension": ".py",
   "mimetype": "text/x-python",
   "name": "python",
   "nbconvert_exporter": "python",
   "pygments_lexer": "ipython2",
   "version": "2.7.3"
  }
 },
 "nbformat": 4,
 "nbformat_minor": 2
}
